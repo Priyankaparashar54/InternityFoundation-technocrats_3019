{
 "cells": [
  {
   "cell_type": "code",
   "execution_count": 6,
   "metadata": {},
   "outputs": [],
   "source": [
    "import cv2\n",
    "import numpy as np\n",
    "import pafy"
   ]
  },
  {
   "cell_type": "code",
   "execution_count": 8,
   "metadata": {},
   "outputs": [],
   "source": [
    "#importing our video\n",
    "url = \"https://www.youtube.com/watch?v=8lvpn2K1_-o\"\n",
    "video = pafy.new(url)\n",
    "video_quality = video.getbest(preftype=\"mp4\")\n",
    "\n",
    "capture = cv2.VideoCapture()\n",
    "capture.open(video_quality.url)\n",
    "\n",
    "#face detection module\n",
    "detection = cv2.CascadeClassifier('haarcascade_frontalface_default.xml')\n",
    "\n",
    "#reading the data\n",
    "while(True):\n",
    "    ret, frame = capture.read()\n",
    "    grey_scale = cv2.cvtColor(frame, cv2.COLOR_BGR2GRAY)\n",
    "    face_detection = detection.detectMultiScale(grey_scale, 1.3, 5)\n",
    "    for(x,y,w,h) in face_detection:\n",
    "        cv2.rectangle(frame, (x,y), (x+w,y+h), (0, 255, 0), 3)\n",
    "    cv2.imshow('Frames', frame)\n",
    "    \n",
    "    #to exit the video before it ends\n",
    "    if cv2.waitKey(15) & 0xFF == ord('q'):\n",
    "        break\n",
    "        \n",
    "#release the captured video and close the frames\n",
    "capture.release()\n",
    "cv2.destroyAllWindows()"
   ]
  },
  {
   "cell_type": "code",
   "execution_count": null,
   "metadata": {},
   "outputs": [],
   "source": []
  }
 ],
 "metadata": {
  "kernelspec": {
   "display_name": "Python 3",
   "language": "python",
   "name": "python3"
  },
  "language_info": {
   "codemirror_mode": {
    "name": "ipython",
    "version": 3
   },
   "file_extension": ".py",
   "mimetype": "text/x-python",
   "name": "python",
   "nbconvert_exporter": "python",
   "pygments_lexer": "ipython3",
   "version": "3.6.8"
  }
 },
 "nbformat": 4,
 "nbformat_minor": 4
}
